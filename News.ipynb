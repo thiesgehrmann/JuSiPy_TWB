{
 "cells": [
  {
   "cell_type": "code",
   "execution_count": null,
   "metadata": {},
   "outputs": [],
   "source": [
    "import requests\n",
    "import json\n",
    "url = ('https://newsapi.org/v2/everything?'\n",
    "       #'category=general&'\n",
    "       'domains=bbc.co.uk&'\n",
    "       #'country=gb&'\n",
    "       'pageSize=99&'\n",
    "       'page=1&'\n",
    "       'from=2019-05-05&to=2019-06-03&'\n",
    "       'apiKey=34e73062364d41b180a6f6a9625bff79')\n",
    "response = requests.get(url)\n",
    "\n",
    "with open('data/data.json', 'w') as outfile:\n",
    "    json.dump(response.json(), outfile)"
   ]
  },
  {
   "cell_type": "code",
   "execution_count": null,
   "metadata": {},
   "outputs": [],
   "source": [
    "import pandas as pd\n",
    "\n",
    "news_df = pd.DataFrame(columns=['Title', 'Date', 'Stems'])"
   ]
  },
  {
   "cell_type": "code",
   "execution_count": null,
   "metadata": {},
   "outputs": [],
   "source": [
    "\n",
    "with open(\"data/data.json\") as f:\n",
    "        loaded_json = json.load(f)\n",
    "        for i in range(len(loaded_json[\"articles\"])):\n",
    "            if loaded_json[\"articles\"][i][\"content\"] is not None:\n",
    "                news_df = news_df.append({'Title': loaded_json[\"articles\"][i][\"title\"], 'Date': loaded_json[\"articles\"][i][\"publishedAt\"]}, ignore_index=True)\n",
    "                #print(loaded_json[\"articles\"][i][\"title\"])\n",
    "                "
   ]
  },
  {
   "cell_type": "code",
   "execution_count": null,
   "metadata": {},
   "outputs": [],
   "source": [
    "news_df"
   ]
  },
  {
   "cell_type": "markdown",
   "metadata": {},
   "source": [
    "## Stemming"
   ]
  },
  {
   "cell_type": "code",
   "execution_count": null,
   "metadata": {},
   "outputs": [],
   "source": [
    "# import spacy\n",
    "# from spacy import displacy\n",
    "# from collections import Counter\n",
    "# import en_core_web_sm\n",
    "# nlp = en_core_web_sm.load()"
   ]
  },
  {
   "cell_type": "code",
   "execution_count": null,
   "metadata": {},
   "outputs": [],
   "source": [
    "import nltk\n",
    "from nltk.stem import PorterStemmer\n",
    "#from nltk.stem import LancasterStemmer\n",
    "from nltk.corpus import stopwords\n",
    "from nltk.tokenize import RegexpTokenizer\n",
    "\n",
    "tokenizer = RegexpTokenizer(r'\\w+')\n",
    "porter = PorterStemmer()\n",
    "\n",
    "from nltk.tokenize import sent_tokenize, word_tokenize\n",
    "def stemSentence(sentence):\n",
    "    token_words=tokenizer.tokenize(sentence)\n",
    "    token_words\n",
    "    stop_words = set(stopwords.words('english'))\n",
    "    #print(stop_words)\n",
    "    filter_sentense = [w for w in token_words if not w in stop_words]\n",
    "    \n",
    "    stem_sentence=[]\n",
    "    for word in filter_sentense:\n",
    "        stem_sentence.append(porter.stem(word))\n",
    "        stem_sentence.append(\" \")\n",
    "    return \"\".join(stem_sentence)"
   ]
  },
  {
   "cell_type": "code",
   "execution_count": null,
   "metadata": {},
   "outputs": [],
   "source": [
    "sentence=news_df.Title[0]\n",
    "x=stemSentence(sentence)\n",
    "print(sentence)\n",
    "print(x)\n"
   ]
  },
  {
   "cell_type": "code",
   "execution_count": null,
   "metadata": {},
   "outputs": [],
   "source": [
    "for i in news_df.index:\n",
    "    news_df.Stems[i] = stemSentence(news_df.Title[i])"
   ]
  },
  {
   "cell_type": "code",
   "execution_count": null,
   "metadata": {},
   "outputs": [],
   "source": [
    "wordfreq = []\n",
    "master_wordlist = []\n",
    "for i in news_df.index:\n",
    "    wordlist = news_df.Stems[i].split()\n",
    "\n",
    "    master_wordlist+= wordlist\n",
    "#print(master_wordlist)\n",
    "# print(set(master_wordlist))\n",
    "# for w in master_wordlist:\n",
    "#     wordfreq.append(master_wordlist.count(w))\n",
    "\n",
    "# ww = list(zip(master_wordlist, wordfreq))\n",
    "# print(\"Pairs\\n\" + str(ww[:]))"
   ]
  },
  {
   "cell_type": "code",
   "execution_count": null,
   "metadata": {},
   "outputs": [],
   "source": [
    "def wordListToFreqDict(wordlist):\n",
    "    wordfreq = [wordlist.count(p) for p in wordlist]\n",
    "    return dict(zip(wordlist,wordfreq))"
   ]
  },
  {
   "cell_type": "code",
   "execution_count": null,
   "metadata": {},
   "outputs": [],
   "source": [
    "word_freq = wordListToFreqDict(master_wordlist)\n",
    "# print(word_freq)"
   ]
  },
  {
   "cell_type": "code",
   "execution_count": null,
   "metadata": {},
   "outputs": [],
   "source": [
    "# for x, y in word_freq.items():\n",
    "#     print(x, y)\n",
    "# print(word_freq.values())"
   ]
  },
  {
   "cell_type": "code",
   "execution_count": null,
   "metadata": {},
   "outputs": [],
   "source": [
    "import matplotlib.pyplot as plt\n",
    "import numpy as np"
   ]
  },
  {
   "cell_type": "code",
   "execution_count": null,
   "metadata": {},
   "outputs": [],
   "source": [
    "from bokeh.io import show, output_file\n",
    "from bokeh.plotting import figure\n",
    "from bokeh.io import output_notebook\n",
    "\n",
    "output_notebook()"
   ]
  },
  {
   "cell_type": "code",
   "execution_count": null,
   "metadata": {},
   "outputs": [],
   "source": [
    "fruits = list(word_freq.keys())\n",
    "counts = list(word_freq.values())\n",
    "\n",
    "# sorting the bars means sorting the range factors\n",
    "sorted_fruits = sorted(fruits, key=lambda x: counts[fruits.index(x)])\n",
    "\n",
    "p = figure(x_range=sorted_fruits, plot_height=500, plot_width=1400, title=\"Word frequencies\",\n",
    "           toolbar_location=\"below\")\n",
    "\n",
    "p.vbar(x=fruits, top=counts, width=0.9)\n",
    "p.xaxis.major_label_orientation = \"vertical\"\n",
    "p.xgrid.grid_line_color = None\n",
    "p.xaxis.axis_label_text_font_size = \"25pt\"\n",
    "p.xaxis.major_label_text_font_size = \"10pt\"\n",
    "p.y_range.start = 0\n",
    "\n",
    "show(p)"
   ]
  },
  {
   "cell_type": "markdown",
   "metadata": {},
   "source": [
    "## Google trends (hourly data)"
   ]
  },
  {
   "cell_type": "code",
   "execution_count": null,
   "metadata": {},
   "outputs": [],
   "source": [
    "import pandas as pd\n",
    "from pytrends.request import TrendReq\n",
    "import os  \n",
    "import numpy as np\n",
    "pytrend = TrendReq(hl='en-US', tz=360)"
   ]
  },
  {
   "cell_type": "code",
   "execution_count": null,
   "metadata": {},
   "outputs": [],
   "source": [
    "#functions\n",
    "def get_interest_and_region(kw_list,pytrend):\n",
    "    if not (os.path.isfile('Data/'+str(kw_list[0])+'.pkl') and os.path.isfile('Data/'+str(kw_list[0])+'_regions'+'.pkl')):\n",
    "        print('Term not downloaded yet, downloading now..')\n",
    "        \n",
    "        #pytrend = TrendReq(hl='en-US', tz=360, timeout=(10,25), proxies=['https://34.203.233.13:80',], retries=5, backoff_factor=1)\n",
    "\n",
    "        search_df = pytrend.get_historical_interest(kw_list, year_start=2005, year_end=2018).reset_index()\n",
    "\n",
    "        search_df.to_pickle('Data/'+str(kw_list[0])+'.pkl')\n",
    "        region_df = pytrend.interest_by_region(resolution='COUNTRY', inc_low_vol=False, inc_geo_code=False)\n",
    "        region_df.to_pickle('Data/'+str(kw_list[0])+'_regions'+'.pkl')\n",
    "        print('term with regional data saved')\n",
    "        return(search_df, region_df)\n",
    "    else:\n",
    "        print('term has been found..')\n",
    "        pytrend = TrendReq(hl='en-US', tz=360)   \n",
    "        term_df = pd.read_pickle('Data/'+str(kw_list[0])+'.pkl')\n",
    "        region_df = pd.read_pickle('Data/'+str(kw_list[0])+'_regions'+'.pkl')\n",
    "        print(term_df.head())\n",
    "        return(term_df, region_df)\n",
    "        \n",
    "        \n",
    "def plot_interest_in_time(df2, kw_list):\n",
    "\n",
    "    from bokeh.io import show, output_file\n",
    "    from bokeh.plotting import figure\n",
    "    from bokeh.io import output_notebook\n",
    "    from datetime import datetime as dt\n",
    "    from bokeh.models import DatetimeTickFormatter\n",
    "\n",
    "    output_notebook()\n",
    "    TOOLS = 'save,pan,box_zoom,reset,wheel_zoom,hover'\n",
    "    TOOLTIPS = [\n",
    "        ('month', '@x{datetime}'),\n",
    "        ('Total searches', '@y'),\n",
    "    ]\n",
    "\n",
    "    p = figure(title=\"Monthly-wise total search of term - \"+str(kw_list[0]), y_axis_type=\"linear\", plot_height = 400,\n",
    "               tools = TOOLS, tooltips = TOOLTIPS, plot_width = 800)\n",
    "\n",
    "\n",
    "    p.xaxis.axis_label = 'Month'\n",
    "    p.yaxis.axis_label = 'Total search'\n",
    "    #p.circle(2010, temp_df.IncidntNum.min(), size = 10, color = 'red')\n",
    "\n",
    "    p.line(df2.index, df2[str(kw_list[0])],line_color=\"purple\", line_width = 3)\n",
    "\n",
    "    p.xaxis.formatter=DatetimeTickFormatter(\n",
    "\n",
    "            days=[\"%d %B %Y\"],\n",
    "            months=[\"%d %B %Y\"],\n",
    "            years=[\"%d %B %Y\"],\n",
    "        )\n",
    "    # output_file(\"line_chart.html\", title=\"Line Chart\")\n",
    "    show(p)\n",
    "\n",
    "\n",
    "def interest_test(kw_list, pytrend):\n",
    "    #create patload\n",
    "    pytrend.build_payload(kw_list, timeframe='all')\n",
    "    interest_over_time_df = pytrend.interest_over_time()\n",
    "    search_df.to_pickle('Data/trends/'+str(kw_list[0])+'.pkl')\n",
    "    return(interest_over_time_df)\n",
    "    #print(interest_over_time_df)\n",
    "#edef"
   ]
  },
  {
   "cell_type": "code",
   "execution_count": null,
   "metadata": {},
   "outputs": [],
   "source": [
    "kw_list = ['greece crisis']\n",
    "\n",
    "#time_df, regions_df = get_interest_and_region(kw_list, pytrend)\n",
    "\n",
    "df = interest_test(kw_list,pytrend)\n",
    "plot_interest_in_time(df, kw_list)\n"
   ]
  },
  {
   "cell_type": "code",
   "execution_count": null,
   "metadata": {},
   "outputs": [],
   "source": [
    "## Downsampling to monthly\n",
    "df2 = time_df.resample('M', on='date').mean()\n",
    "print(df2.index)"
   ]
  },
  {
   "cell_type": "code",
   "execution_count": null,
   "metadata": {},
   "outputs": [],
   "source": [
    "plot_interest_in_time(df2,kw_list)"
   ]
  },
  {
   "cell_type": "code",
   "execution_count": null,
   "metadata": {},
   "outputs": [],
   "source": [
    "# #add year and month\n",
    "# term_csv['Year'] = term_csv.date.apply(lambda x: x.year)\n",
    "# term_csv['Month'] = term_csv.date.apply(lambda x: x.month)\n",
    "# term_csv.head()"
   ]
  },
  {
   "cell_type": "code",
   "execution_count": null,
   "metadata": {},
   "outputs": [],
   "source": [
    "# temp_df = term_csv.groupby(['Year']).mean().reset_index()\n",
    "\n",
    "# temp_df"
   ]
  },
  {
   "cell_type": "code",
   "execution_count": null,
   "metadata": {},
   "outputs": [],
   "source": [
    "region_df = pd.read_pickle('Data/crisis_regions'+'.pkl')"
   ]
  },
  {
   "cell_type": "code",
   "execution_count": null,
   "metadata": {},
   "outputs": [],
   "source": [
    "region_df.index[0]"
   ]
  },
  {
   "cell_type": "markdown",
   "metadata": {},
   "source": [
    "# Google trends (Interest over time)"
   ]
  },
  {
   "cell_type": "code",
   "execution_count": null,
   "metadata": {},
   "outputs": [],
   "source": [
    "import pandas as pd\n",
    "from pytrends.request import TrendReq\n",
    "import os  \n",
    "import numpy as np\n",
    "pytrend = TrendReq(hl='en-US', tz=360)"
   ]
  },
  {
   "cell_type": "code",
   "execution_count": null,
   "metadata": {},
   "outputs": [],
   "source": [
    "def interest_test(kw_list, pytrend):\n",
    "    #create patload\n",
    "    pytrend.build_payload(kw_list, timeframe='all')\n",
    "    interest_over_time_df = pytrend.interest_over_time()\n",
    "    interest_over_time_df.to_pickle('Data/trends/'+str(kw_list[0].replace(\" \", \"_\"))+'_'+str(kw_list[1].replace(\" \", \"_\")) +'.pkl')\n",
    "    region_df = pytrend.interest_by_region(resolution='COUNTRY', inc_low_vol=False, inc_geo_code=False)\n",
    "    #region_df.to_pickle('Data/trends/'+str(kw_list[0].replace(\" \", \"_\"))+'_regions'+'.pkl')\n",
    "    #return(interest_over_time_df)\n",
    "    #print(interest_over_time_df)\n",
    "#edef\n",
    "def plot_interest_in_time(df2, kw_list):\n",
    "\n",
    "    from bokeh.io import show, output_file\n",
    "    from bokeh.plotting import figure\n",
    "    from bokeh.io import output_notebook\n",
    "    from datetime import datetime as dt\n",
    "    from bokeh.models import DatetimeTickFormatter\n",
    "\n",
    "    output_notebook()\n",
    "    TOOLS = 'save,pan,box_zoom,reset,wheel_zoom,hover'\n",
    "    TOOLTIPS = [\n",
    "        ('month', '@x{datetime}'),\n",
    "        ('Total searches', '@y'),\n",
    "    ]\n",
    "\n",
    "    p = figure(title=\"Monthly-wise total search of term - \"+str(kw_list[0]), y_axis_type=\"linear\", plot_height = 400,\n",
    "               tools = TOOLS, tooltips = TOOLTIPS, plot_width = 800)\n",
    "\n",
    "\n",
    "    p.xaxis.axis_label = 'Month'\n",
    "    p.yaxis.axis_label = 'Total search'\n",
    "    #p.circle(2010, temp_df.IncidntNum.min(), size = 10, color = 'red')\n",
    "\n",
    "    p.line(df2.index, df2[str(kw_list[0])],line_color=\"purple\", line_width = 3)\n",
    "\n",
    "    p.xaxis.formatter=DatetimeTickFormatter(\n",
    "\n",
    "            days=[\"%d %B %Y\"],\n",
    "            months=[\"%d %B %Y\"],\n",
    "            years=[\"%d %B %Y\"],\n",
    "        )\n",
    "    # output_file(\"line_chart.html\", title=\"Line Chart\")\n",
    "    show(p)\n",
    "#edef"
   ]
  },
  {
   "cell_type": "markdown",
   "metadata": {},
   "source": [
    "#### Functions to cache countries with tags"
   ]
  },
  {
   "cell_type": "code",
   "execution_count": null,
   "metadata": {},
   "outputs": [],
   "source": [
    "tags = [ 'humanitarian crisis',\n",
    "         'natural disaster',\n",
    "         'environmental crisis',\n",
    "         'disability',\n",
    "         'gender',\n",
    "         'genital mutilation',\n",
    "         'racism',\n",
    "         'genocide',\n",
    "         'civil war',\n",
    "         'terrorism',\n",
    "         'infectious disease',\n",
    "         'political revolution',\n",
    "         'political prisoner',\n",
    "         'amnesty',\n",
    "         'corruption',\n",
    "         'health',\n",
    "         'gender inequality',\n",
    "         'rape',\n",
    "         'ebola',\n",
    "         'aids',\n",
    "         'hiv',\n",
    "         'technology',\n",
    "         'artificial intelligence',\n",
    "         'military',\n",
    "         'war',\n",
    "         'climate change',\n",
    "         'starvation',\n",
    "         'food shortage',\n",
    "         'dehydration',\n",
    "         'water shortage',\n",
    "         'attack',\n",
    "         'aggression',\n",
    "         'logistics',\n",
    "         'nutrition',\n",
    "         'protection',\n",
    "         'shelter',\n",
    "         'drinking water',\n",
    "         'sanitation',\n",
    "         'hygiene',\n",
    "         'refugee camp',\n",
    "         'education',\n",
    "         'emergency communication system',\n",
    "         'food security',\n",
    "         'human rights',\n",
    "         'children',\n",
    "         'pregnancy',\n",
    "         'old age',\n",
    "         'justice',\n",
    "         'homelessness',\n",
    "         'art',\n",
    "         'indigenous peoples'\n",
    "       ]"
   ]
  },
  {
   "cell_type": "code",
   "execution_count": null,
   "metadata": {},
   "outputs": [],
   "source": [
    "countries = [\n",
    "    'Portugal',\n",
    "    'Russia',\n",
    "    'Myanmar',\n",
    "    'Italy',\n",
    "    'Ireland'\n",
    "]"
   ]
  },
  {
   "cell_type": "code",
   "execution_count": null,
   "metadata": {},
   "outputs": [],
   "source": [
    "# Download country and terms\n",
    "region_df = pd.read_pickle('Data/crisis_regions'+'.pkl')\n",
    "for i in range (len(countries)):\n",
    "    for j in range (len(countries)-1):\n",
    "        for term in tags:\n",
    "            #kw_list = [country+' '+term, country+1]\n",
    "    #        interest_test(kw_list, pytrend)\n",
    "            if not (countries[i] == countries[j]):\n",
    "                kw_list = [countries[i] + ' ' +term, countries[j] +' ' +term]\n",
    "                interest_test(kw_list, pytrend)\n",
    "                #print(kw_list)"
   ]
  },
  {
   "cell_type": "code",
   "execution_count": null,
   "metadata": {},
   "outputs": [],
   "source": [
    "# # plot an example\n",
    "# ex_df = pd.read_pickle('Data/trends/Algeria_genocide.pkl')\n",
    "# print(ex_df)\n",
    "# kw_li = ['Algeria genocide']\n",
    "# plot_interest_in_time(ex_df, kw_li)\n"
   ]
  },
  {
   "cell_type": "code",
   "execution_count": null,
   "metadata": {},
   "outputs": [],
   "source": [
    "# # testing comnparison of terms\n",
    "# \n",
    "# interest_test(comp_list, pytrend)"
   ]
  },
  {
   "cell_type": "code",
   "execution_count": null,
   "metadata": {},
   "outputs": [],
   "source": [
    "#ploting\n",
    "ex_df = pd.read_pickle('Data/trends/Algeria_aids_Greece_aids.pkl')\n",
    "comp_list = ['Algeria aids', 'Greece aids']"
   ]
  },
  {
   "cell_type": "code",
   "execution_count": null,
   "metadata": {},
   "outputs": [],
   "source": [
    "from bokeh.io import show, output_file\n",
    "from bokeh.plotting import figure\n",
    "from bokeh.io import output_notebook\n",
    "from datetime import datetime as dt\n",
    "from bokeh.models import DatetimeTickFormatter\n",
    "\n",
    "output_notebook()\n",
    "TOOLS = 'save,pan,box_zoom,reset,wheel_zoom,hover'\n",
    "TOOLTIPS = [\n",
    "    ('month', '@x{datetime}'),\n",
    "    ('Total searches', '@y'),\n",
    "]\n",
    "\n",
    "p = figure(title=\"Monthly-wise total search of term - \"+str(comp_list), y_axis_type=\"linear\", plot_height = 400,\n",
    "               tools = TOOLS, tooltips = TOOLTIPS, plot_width = 800)\n",
    "\n",
    "\n",
    "p.xaxis.axis_label = 'Month'\n",
    "p.yaxis.axis_label = 'Total search'\n",
    "#p.circle(2010, temp_df.IncidntNum.min(), size = 10, color = 'red')\n",
    "\n",
    "p.line(ex_df.index, ex_df[str(comp_list[0])],line_color=\"purple\", line_width = 3)\n",
    "p.line(ex_df.index, ex_df[str(comp_list[1])],line_color=\"purple\", line_width = 3)\n",
    "\n",
    "p.xaxis.formatter=DatetimeTickFormatter(\n",
    "\n",
    "        days=[\"%d %B %Y\"],\n",
    "        months=[\"%d %B %Y\"],\n",
    "        years=[\"%d %B %Y\"],\n",
    "    )\n",
    "# output_file(\"line_chart.html\", title=\"Line Chart\")\n",
    "show(p)"
   ]
  },
  {
   "cell_type": "markdown",
   "metadata": {},
   "source": [
    "## Functions to get the results from the caches files\n",
    "### These functions let you get the occurences for a given country (cached only) by specifying \n",
    "### either a particular date or a month"
   ]
  },
  {
   "cell_type": "code",
   "execution_count": null,
   "metadata": {},
   "outputs": [],
   "source": [
    "import pandas as pd\n",
    "from pytrends.request import TrendReq\n",
    "import os  \n",
    "import numpy as np\n",
    "import datetime as dt\n",
    "import glob\n",
    "import warnings\n",
    "warnings.filterwarnings('ignore')"
   ]
  },
  {
   "cell_type": "code",
   "execution_count": null,
   "metadata": {},
   "outputs": [],
   "source": [
    "def get_cause_by_date(country, timestamp):\n",
    "#theloume max to mhna    \n",
    "    time_max = []\n",
    "    timestamp_df = pd.DataFrame(columns=('timestamp', 'occurences', 'reason'))\n",
    "    \n",
    "    for name in glob.glob('Data/trends/'+country+'*'):\n",
    "        country_term = pd.read_pickle(name)\n",
    "        if not country_term.empty:\n",
    "            #print(name)\n",
    "            \n",
    "            spike_cols = [col for col in country_term.columns if country in col]\n",
    "            cc = country_term.loc[timestamp][spike_cols]\n",
    "            #print(cc[0])\n",
    "            timestamp_df = timestamp_df.append({'timestamp': timestamp, 'occurences': cc[0], 'reason': spike_cols[0]}, ignore_index=True)\n",
    "            #print(str(spike_cols[0].split()[1]))\n",
    "    return(timestamp_df.max())\n",
    "#edef\n",
    "\n",
    "def get_cause_by_month(country, timestamp):\n",
    "    timestamp2_df = pd.DataFrame(columns=('timestamp', 'occurences', 'reason'))\n",
    "    for name in glob.glob('Data/trends/'+country+'*'):\n",
    "        country_term = pd.read_pickle(name)\n",
    "        if not country_term.empty:\n",
    "            df = country_term.groupby(pd.TimeGrouper('M')).max()\n",
    "            #print(df.loc[timestamp])\n",
    "            spike_cols = [col for col in country_term.columns if country in col]\n",
    "            #df = country_term.groupby(pd.Grouper(key='date', freq='60s'))\n",
    "            cc = country_term.loc[timestamp][spike_cols]\n",
    "            #print(cc.iloc[0])\n",
    "            timestamp2_df = timestamp2_df.append({'timestamp': timestamp, 'occurences': cc.iloc[0][0], 'reason': spike_cols[0]}, ignore_index=True)\n",
    "    #print('the max index is: '+str(timestamp2_df.index.mac()))\n",
    "    return(timestamp2_df.ix[timestamp2_df.occurences.idxmax()])\n",
    "\n",
    "def get_cause_by_month_with_window(country, timestamp, window):\n",
    "    timestamp3_df = pd.DataFrame(columns=('timestamp', 'occurences', 'reason'))\n",
    "    for name in glob.glob('Data/trends/'+country+'*'):\n",
    "        country_term2 = pd.read_pickle(name)\n",
    "        if not country_term2.empty:\n",
    "            #this dataframe groups by month\n",
    "            df2 = country_term2.groupby(pd.TimeGrouper('M')).max()\n",
    "            #print(df2)\n",
    "            \n",
    "            #find the indexes of the date index(column) that refers to the monthly timestamp\n",
    "            \n",
    "            #get column name that matches the country name (in order to avoid the reference country)\n",
    "            spike_cols2 = [col for col in country_term2.columns if country in col]\n",
    "            \n",
    "            cc2 = country_term2.loc[timestamp][spike_cols2]\n",
    "            #print(cc2)\n",
    "            timestamp3_df = timestamp3_df.append({'timestamp': timestamp, 'occurences': cc2.iloc[0][0].astype('float'), 'reason': spike_cols2[0]}, ignore_index=True)\n",
    "            #print(timestamp3_df)\n",
    "    #timestamp3_df.occurences = timestamp3_df.occurences.astype('float64')\n",
    "    #max_index = timestamp3_df.occurences.idxmax()\n",
    "    #print(timestamp3_df['occurences'].max())\n",
    "    \n",
    "    max_index = (timestamp3_df.ix[timestamp3_df.occurences.idxmax()].name)\n",
    "    max_value  = timestamp3_df.ix[timestamp3_df.occurences.idxmax()].occurences\n",
    "    #print(timestamp3_df.ix[timestamp3_df.occurences.idxmax()])\n",
    "    if not (max_index-window < 0):\n",
    "        \n",
    "        #go back to all the dataframes and find the one that matches the max and return the time window on that\n",
    "        \n",
    "        max_reason = timestamp3_df.iloc[max_index].reason\n",
    "        max_reason2 = max_reason.replace(\" \", \"_\")\n",
    "        #print(max_reason2)\n",
    "        for name in glob.glob('Data/trends/'+max_reason2+'*'):\n",
    "            country_term3 = pd.read_pickle(name)\n",
    "            #print(country_term3)\n",
    "            if not country_term3.empty:\n",
    "                #print(country_term3)\n",
    "                my_old_index = country_term3.loc[(country_term3[max_reason] == max_value) & (country_term3.index == timestamp)]\n",
    "                \n",
    "                \n",
    "                \n",
    "                #my_index = (country_term3.loc[country_term3[max_reason] == max_value && country_term3.index.match(timestamp)].index)\n",
    "                if not my_old_index.empty:\n",
    "                    #print(my_old_index.index.get_indexer)\n",
    "                    my_new_index = (country_term3.index.get_loc(my_old_index.index.values[0]))\n",
    "                    #print(my_new_index)\n",
    "                    return(country_term3.iloc[my_new_index - window: my_new_index+window])\n",
    "                    #window_stop_row = country_term3[country_term3.index < timestamp].iloc[0]\n",
    "                    #return(window_stop_row)\n",
    "\n",
    "                \n",
    "    \n",
    "    #return(timestamp3_df.iloc[(max_index-window):(max_index+window)])\n",
    "           "
   ]
  },
  {
   "cell_type": "code",
   "execution_count": null,
   "metadata": {},
   "outputs": [],
   "source": [
    "#print(get_cause_by_date('Egypt', '2014-01-01'))\n",
    "#print(get_cause_by_month('Greece', '2008-07'))\n",
    "print(get_cause_by_month_with_window('France', '2017-12', 2))"
   ]
  },
  {
   "cell_type": "markdown",
   "metadata": {},
   "source": [
    "# Testing trends api"
   ]
  },
  {
   "cell_type": "code",
   "execution_count": null,
   "metadata": {},
   "outputs": [],
   "source": [
    "from TWB import trends"
   ]
  },
  {
   "cell_type": "code",
   "execution_count": null,
   "metadata": {},
   "outputs": [],
   "source": [
    "print(trends.Trends('France').plot_general_information_for_a_country)"
   ]
  },
  {
   "cell_type": "code",
   "execution_count": null,
   "metadata": {},
   "outputs": [],
   "source": [
    "print(trends.Trends('France').download_trends_for_a_country_general)"
   ]
  },
  {
   "cell_type": "code",
   "execution_count": null,
   "metadata": {},
   "outputs": [],
   "source": [
    "print(trends.Trends('Algeria', timestamp = '2007-01', window = 2).get_maximum_occurences_on_country_by_month_with_window)"
   ]
  },
  {
   "cell_type": "code",
   "execution_count": null,
   "metadata": {},
   "outputs": [],
   "source": [
    "print(trends.Trends('Spain', country_for_comparison = 'Greece').download_trends_for_compared_countries_general)"
   ]
  },
  {
   "cell_type": "code",
   "execution_count": null,
   "metadata": {},
   "outputs": [],
   "source": [
    "print(trends.Trends('Spain', country_for_comparison = 'Greece').plot_general_information_for_compared_countries_general)"
   ]
  },
  {
   "cell_type": "markdown",
   "metadata": {},
   "source": [
    "# Validation"
   ]
  },
  {
   "cell_type": "code",
   "execution_count": 1,
   "metadata": {},
   "outputs": [
    {
     "name": "stderr",
     "output_type": "stream",
     "text": [
      "/Users/manolis/anaconda3/envs/newsenv/lib/python3.5/importlib/_bootstrap.py:222: RuntimeWarning: numpy.dtype size changed, may indicate binary incompatibility. Expected 96, got 88\n",
      "  return f(*args, **kwds)\n",
      "/Users/manolis/anaconda3/envs/newsenv/lib/python3.5/importlib/_bootstrap.py:222: RuntimeWarning: numpy.dtype size changed, may indicate binary incompatibility. Expected 96, got 88\n",
      "  return f(*args, **kwds)\n"
     ]
    }
   ],
   "source": [
    "import pandas as pd\n",
    "from TWB import trends\n",
    "import country_converter as coco"
   ]
  },
  {
   "cell_type": "code",
   "execution_count": 2,
   "metadata": {},
   "outputs": [],
   "source": [
    "#trends.Trends(None).download_country_data_per_topic"
   ]
  },
  {
   "cell_type": "code",
   "execution_count": null,
   "metadata": {},
   "outputs": [],
   "source": []
  },
  {
   "cell_type": "code",
   "execution_count": 3,
   "metadata": {},
   "outputs": [],
   "source": [
    "# read the pickle file\n",
    "df = pd.read_pickle('data/english_document_data.pkl')"
   ]
  },
  {
   "cell_type": "code",
   "execution_count": 8,
   "metadata": {},
   "outputs": [
    {
     "data": {
      "text/plain": [
       "FR     6707\n",
       "MX     4298\n",
       "ES     2916\n",
       "SA     2871\n",
       "IN     1904\n",
       "CN     1176\n",
       "PT     1070\n",
       "RU     1037\n",
       "MM      917\n",
       "DE      681\n",
       "IT      311\n",
       "IR      300\n",
       "BR      295\n",
       "VN      287\n",
       "CO      281\n",
       "MLG     229\n",
       "PK      213\n",
       "ID      207\n",
       "HAU     199\n",
       "TIR     195\n",
       "SZ      195\n",
       "KE      177\n",
       "AM      171\n",
       "GB      169\n",
       "KAU     168\n",
       "PL      156\n",
       "GR      154\n",
       "TW      140\n",
       "UA      140\n",
       "NL      135\n",
       "       ... \n",
       "KZ        8\n",
       "XN        6\n",
       "HK        5\n",
       "CH        5\n",
       "BA        5\n",
       "CA        4\n",
       "MN        4\n",
       "TM        4\n",
       "KH        4\n",
       "SK        3\n",
       "BY        3\n",
       "AZ        3\n",
       "UG        2\n",
       "MT        2\n",
       "PW        2\n",
       "FJ        2\n",
       "TO        2\n",
       "VU        2\n",
       "ZM        2\n",
       "ME        2\n",
       "PG        2\n",
       "ST        1\n",
       "GU        1\n",
       "CD        1\n",
       "BD        1\n",
       "CM        1\n",
       "FO        1\n",
       "SN        1\n",
       "DZ        1\n",
       "CV        1\n",
       "Name: Target_country, Length: 107, dtype: int64"
      ]
     },
     "execution_count": 8,
     "metadata": {},
     "output_type": "execute_result"
    }
   ],
   "source": [
    "# find countries\n",
    "\n",
    "df['Target_country'].value_counts()"
   ]
  },
  {
   "cell_type": "code",
   "execution_count": 18,
   "metadata": {},
   "outputs": [],
   "source": [
    "# downsampling\n",
    "selected_country_iso_code = 'MX'\n",
    "country_df = df[df['Target_country'] == selected_country_iso_code]\n",
    "down_df = country_df.resample('M', on='Date').count().Date"
   ]
  },
  {
   "cell_type": "code",
   "execution_count": 19,
   "metadata": {},
   "outputs": [],
   "source": [
    "#down_df = down_df.rename(index={i : i.date().strftime('%Y-%m') for i in down_df.index})\n"
   ]
  },
  {
   "cell_type": "code",
   "execution_count": 20,
   "metadata": {},
   "outputs": [
    {
     "data": {
      "text/html": [
       "\n",
       "    <div class=\"bk-root\">\n",
       "        <a href=\"https://bokeh.pydata.org\" target=\"_blank\" class=\"bk-logo bk-logo-small bk-logo-notebook\"></a>\n",
       "        <span id=\"1265\">Loading BokehJS ...</span>\n",
       "    </div>"
      ]
     },
     "metadata": {},
     "output_type": "display_data"
    },
    {
     "data": {
      "application/javascript": [
       "\n",
       "(function(root) {\n",
       "  function now() {\n",
       "    return new Date();\n",
       "  }\n",
       "\n",
       "  var force = true;\n",
       "\n",
       "  if (typeof root._bokeh_onload_callbacks === \"undefined\" || force === true) {\n",
       "    root._bokeh_onload_callbacks = [];\n",
       "    root._bokeh_is_loading = undefined;\n",
       "  }\n",
       "\n",
       "  var JS_MIME_TYPE = 'application/javascript';\n",
       "  var HTML_MIME_TYPE = 'text/html';\n",
       "  var EXEC_MIME_TYPE = 'application/vnd.bokehjs_exec.v0+json';\n",
       "  var CLASS_NAME = 'output_bokeh rendered_html';\n",
       "\n",
       "  /**\n",
       "   * Render data to the DOM node\n",
       "   */\n",
       "  function render(props, node) {\n",
       "    var script = document.createElement(\"script\");\n",
       "    node.appendChild(script);\n",
       "  }\n",
       "\n",
       "  /**\n",
       "   * Handle when an output is cleared or removed\n",
       "   */\n",
       "  function handleClearOutput(event, handle) {\n",
       "    var cell = handle.cell;\n",
       "\n",
       "    var id = cell.output_area._bokeh_element_id;\n",
       "    var server_id = cell.output_area._bokeh_server_id;\n",
       "    // Clean up Bokeh references\n",
       "    if (id != null && id in Bokeh.index) {\n",
       "      Bokeh.index[id].model.document.clear();\n",
       "      delete Bokeh.index[id];\n",
       "    }\n",
       "\n",
       "    if (server_id !== undefined) {\n",
       "      // Clean up Bokeh references\n",
       "      var cmd = \"from bokeh.io.state import curstate; print(curstate().uuid_to_server['\" + server_id + \"'].get_sessions()[0].document.roots[0]._id)\";\n",
       "      cell.notebook.kernel.execute(cmd, {\n",
       "        iopub: {\n",
       "          output: function(msg) {\n",
       "            var id = msg.content.text.trim();\n",
       "            if (id in Bokeh.index) {\n",
       "              Bokeh.index[id].model.document.clear();\n",
       "              delete Bokeh.index[id];\n",
       "            }\n",
       "          }\n",
       "        }\n",
       "      });\n",
       "      // Destroy server and session\n",
       "      var cmd = \"import bokeh.io.notebook as ion; ion.destroy_server('\" + server_id + \"')\";\n",
       "      cell.notebook.kernel.execute(cmd);\n",
       "    }\n",
       "  }\n",
       "\n",
       "  /**\n",
       "   * Handle when a new output is added\n",
       "   */\n",
       "  function handleAddOutput(event, handle) {\n",
       "    var output_area = handle.output_area;\n",
       "    var output = handle.output;\n",
       "\n",
       "    // limit handleAddOutput to display_data with EXEC_MIME_TYPE content only\n",
       "    if ((output.output_type != \"display_data\") || (!output.data.hasOwnProperty(EXEC_MIME_TYPE))) {\n",
       "      return\n",
       "    }\n",
       "\n",
       "    var toinsert = output_area.element.find(\".\" + CLASS_NAME.split(' ')[0]);\n",
       "\n",
       "    if (output.metadata[EXEC_MIME_TYPE][\"id\"] !== undefined) {\n",
       "      toinsert[toinsert.length - 1].firstChild.textContent = output.data[JS_MIME_TYPE];\n",
       "      // store reference to embed id on output_area\n",
       "      output_area._bokeh_element_id = output.metadata[EXEC_MIME_TYPE][\"id\"];\n",
       "    }\n",
       "    if (output.metadata[EXEC_MIME_TYPE][\"server_id\"] !== undefined) {\n",
       "      var bk_div = document.createElement(\"div\");\n",
       "      bk_div.innerHTML = output.data[HTML_MIME_TYPE];\n",
       "      var script_attrs = bk_div.children[0].attributes;\n",
       "      for (var i = 0; i < script_attrs.length; i++) {\n",
       "        toinsert[toinsert.length - 1].firstChild.setAttribute(script_attrs[i].name, script_attrs[i].value);\n",
       "      }\n",
       "      // store reference to server id on output_area\n",
       "      output_area._bokeh_server_id = output.metadata[EXEC_MIME_TYPE][\"server_id\"];\n",
       "    }\n",
       "  }\n",
       "\n",
       "  function register_renderer(events, OutputArea) {\n",
       "\n",
       "    function append_mime(data, metadata, element) {\n",
       "      // create a DOM node to render to\n",
       "      var toinsert = this.create_output_subarea(\n",
       "        metadata,\n",
       "        CLASS_NAME,\n",
       "        EXEC_MIME_TYPE\n",
       "      );\n",
       "      this.keyboard_manager.register_events(toinsert);\n",
       "      // Render to node\n",
       "      var props = {data: data, metadata: metadata[EXEC_MIME_TYPE]};\n",
       "      render(props, toinsert[toinsert.length - 1]);\n",
       "      element.append(toinsert);\n",
       "      return toinsert\n",
       "    }\n",
       "\n",
       "    /* Handle when an output is cleared or removed */\n",
       "    events.on('clear_output.CodeCell', handleClearOutput);\n",
       "    events.on('delete.Cell', handleClearOutput);\n",
       "\n",
       "    /* Handle when a new output is added */\n",
       "    events.on('output_added.OutputArea', handleAddOutput);\n",
       "\n",
       "    /**\n",
       "     * Register the mime type and append_mime function with output_area\n",
       "     */\n",
       "    OutputArea.prototype.register_mime_type(EXEC_MIME_TYPE, append_mime, {\n",
       "      /* Is output safe? */\n",
       "      safe: true,\n",
       "      /* Index of renderer in `output_area.display_order` */\n",
       "      index: 0\n",
       "    });\n",
       "  }\n",
       "\n",
       "  // register the mime type if in Jupyter Notebook environment and previously unregistered\n",
       "  if (root.Jupyter !== undefined) {\n",
       "    var events = require('base/js/events');\n",
       "    var OutputArea = require('notebook/js/outputarea').OutputArea;\n",
       "\n",
       "    if (OutputArea.prototype.mime_types().indexOf(EXEC_MIME_TYPE) == -1) {\n",
       "      register_renderer(events, OutputArea);\n",
       "    }\n",
       "  }\n",
       "\n",
       "  \n",
       "  if (typeof (root._bokeh_timeout) === \"undefined\" || force === true) {\n",
       "    root._bokeh_timeout = Date.now() + 5000;\n",
       "    root._bokeh_failed_load = false;\n",
       "  }\n",
       "\n",
       "  var NB_LOAD_WARNING = {'data': {'text/html':\n",
       "     \"<div style='background-color: #fdd'>\\n\"+\n",
       "     \"<p>\\n\"+\n",
       "     \"BokehJS does not appear to have successfully loaded. If loading BokehJS from CDN, this \\n\"+\n",
       "     \"may be due to a slow or bad network connection. Possible fixes:\\n\"+\n",
       "     \"</p>\\n\"+\n",
       "     \"<ul>\\n\"+\n",
       "     \"<li>re-rerun `output_notebook()` to attempt to load from CDN again, or</li>\\n\"+\n",
       "     \"<li>use INLINE resources instead, as so:</li>\\n\"+\n",
       "     \"</ul>\\n\"+\n",
       "     \"<code>\\n\"+\n",
       "     \"from bokeh.resources import INLINE\\n\"+\n",
       "     \"output_notebook(resources=INLINE)\\n\"+\n",
       "     \"</code>\\n\"+\n",
       "     \"</div>\"}};\n",
       "\n",
       "  function display_loaded() {\n",
       "    var el = document.getElementById(\"1265\");\n",
       "    if (el != null) {\n",
       "      el.textContent = \"BokehJS is loading...\";\n",
       "    }\n",
       "    if (root.Bokeh !== undefined) {\n",
       "      if (el != null) {\n",
       "        el.textContent = \"BokehJS \" + root.Bokeh.version + \" successfully loaded.\";\n",
       "      }\n",
       "    } else if (Date.now() < root._bokeh_timeout) {\n",
       "      setTimeout(display_loaded, 100)\n",
       "    }\n",
       "  }\n",
       "\n",
       "\n",
       "  function run_callbacks() {\n",
       "    try {\n",
       "      root._bokeh_onload_callbacks.forEach(function(callback) {\n",
       "        if (callback != null)\n",
       "          callback();\n",
       "      });\n",
       "    } finally {\n",
       "      delete root._bokeh_onload_callbacks\n",
       "    }\n",
       "    console.debug(\"Bokeh: all callbacks have finished\");\n",
       "  }\n",
       "\n",
       "  function load_libs(css_urls, js_urls, callback) {\n",
       "    if (css_urls == null) css_urls = [];\n",
       "    if (js_urls == null) js_urls = [];\n",
       "\n",
       "    root._bokeh_onload_callbacks.push(callback);\n",
       "    if (root._bokeh_is_loading > 0) {\n",
       "      console.debug(\"Bokeh: BokehJS is being loaded, scheduling callback at\", now());\n",
       "      return null;\n",
       "    }\n",
       "    if (js_urls == null || js_urls.length === 0) {\n",
       "      run_callbacks();\n",
       "      return null;\n",
       "    }\n",
       "    console.debug(\"Bokeh: BokehJS not loaded, scheduling load and callback at\", now());\n",
       "    root._bokeh_is_loading = css_urls.length + js_urls.length;\n",
       "\n",
       "    function on_load() {\n",
       "      root._bokeh_is_loading--;\n",
       "      if (root._bokeh_is_loading === 0) {\n",
       "        console.debug(\"Bokeh: all BokehJS libraries/stylesheets loaded\");\n",
       "        run_callbacks()\n",
       "      }\n",
       "    }\n",
       "\n",
       "    function on_error() {\n",
       "      console.error(\"failed to load \" + url);\n",
       "    }\n",
       "\n",
       "    for (var i = 0; i < css_urls.length; i++) {\n",
       "      var url = css_urls[i];\n",
       "      const element = document.createElement(\"link\");\n",
       "      element.onload = on_load;\n",
       "      element.onerror = on_error;\n",
       "      element.rel = \"stylesheet\";\n",
       "      element.type = \"text/css\";\n",
       "      element.href = url;\n",
       "      console.debug(\"Bokeh: injecting link tag for BokehJS stylesheet: \", url);\n",
       "      document.body.appendChild(element);\n",
       "    }\n",
       "\n",
       "    for (var i = 0; i < js_urls.length; i++) {\n",
       "      var url = js_urls[i];\n",
       "      var element = document.createElement('script');\n",
       "      element.onload = on_load;\n",
       "      element.onerror = on_error;\n",
       "      element.async = false;\n",
       "      element.src = url;\n",
       "      console.debug(\"Bokeh: injecting script tag for BokehJS library: \", url);\n",
       "      document.head.appendChild(element);\n",
       "    }\n",
       "  };var element = document.getElementById(\"1265\");\n",
       "  if (element == null) {\n",
       "    console.error(\"Bokeh: ERROR: autoload.js configured with elementid '1265' but no matching script tag was found. \")\n",
       "    return false;\n",
       "  }\n",
       "\n",
       "  function inject_raw_css(css) {\n",
       "    const element = document.createElement(\"style\");\n",
       "    element.appendChild(document.createTextNode(css));\n",
       "    document.body.appendChild(element);\n",
       "  }\n",
       "\n",
       "  var js_urls = [\"https://cdn.pydata.org/bokeh/release/bokeh-1.2.0.min.js\", \"https://cdn.pydata.org/bokeh/release/bokeh-widgets-1.2.0.min.js\", \"https://cdn.pydata.org/bokeh/release/bokeh-tables-1.2.0.min.js\", \"https://cdn.pydata.org/bokeh/release/bokeh-gl-1.2.0.min.js\"];\n",
       "  var css_urls = [\"https://cdn.pydata.org/bokeh/release/bokeh-1.2.0.min.css\", \"https://cdn.pydata.org/bokeh/release/bokeh-widgets-1.2.0.min.css\", \"https://cdn.pydata.org/bokeh/release/bokeh-tables-1.2.0.min.css\"];\n",
       "\n",
       "  var inline_js = [\n",
       "    function(Bokeh) {\n",
       "      Bokeh.set_log_level(\"info\");\n",
       "    },\n",
       "    \n",
       "    function(Bokeh) {\n",
       "      \n",
       "    },\n",
       "    function(Bokeh) {} // ensure no trailing comma for IE\n",
       "  ];\n",
       "\n",
       "  function run_inline_js() {\n",
       "    \n",
       "    if ((root.Bokeh !== undefined) || (force === true)) {\n",
       "      for (var i = 0; i < inline_js.length; i++) {\n",
       "        inline_js[i].call(root, root.Bokeh);\n",
       "      }if (force === true) {\n",
       "        display_loaded();\n",
       "      }} else if (Date.now() < root._bokeh_timeout) {\n",
       "      setTimeout(run_inline_js, 100);\n",
       "    } else if (!root._bokeh_failed_load) {\n",
       "      console.log(\"Bokeh: BokehJS failed to load within specified timeout.\");\n",
       "      root._bokeh_failed_load = true;\n",
       "    } else if (force !== true) {\n",
       "      var cell = $(document.getElementById(\"1265\")).parents('.cell').data().cell;\n",
       "      cell.output_area.append_execute_result(NB_LOAD_WARNING)\n",
       "    }\n",
       "\n",
       "  }\n",
       "\n",
       "  if (root._bokeh_is_loading === 0) {\n",
       "    console.debug(\"Bokeh: BokehJS loaded, going straight to plotting\");\n",
       "    run_inline_js();\n",
       "  } else {\n",
       "    load_libs(css_urls, js_urls, function() {\n",
       "      console.debug(\"Bokeh: BokehJS plotting callback run at\", now());\n",
       "      run_inline_js();\n",
       "    });\n",
       "  }\n",
       "}(window));"
      ],
      "application/vnd.bokehjs_load.v0+json": "\n(function(root) {\n  function now() {\n    return new Date();\n  }\n\n  var force = true;\n\n  if (typeof root._bokeh_onload_callbacks === \"undefined\" || force === true) {\n    root._bokeh_onload_callbacks = [];\n    root._bokeh_is_loading = undefined;\n  }\n\n  \n\n  \n  if (typeof (root._bokeh_timeout) === \"undefined\" || force === true) {\n    root._bokeh_timeout = Date.now() + 5000;\n    root._bokeh_failed_load = false;\n  }\n\n  var NB_LOAD_WARNING = {'data': {'text/html':\n     \"<div style='background-color: #fdd'>\\n\"+\n     \"<p>\\n\"+\n     \"BokehJS does not appear to have successfully loaded. If loading BokehJS from CDN, this \\n\"+\n     \"may be due to a slow or bad network connection. Possible fixes:\\n\"+\n     \"</p>\\n\"+\n     \"<ul>\\n\"+\n     \"<li>re-rerun `output_notebook()` to attempt to load from CDN again, or</li>\\n\"+\n     \"<li>use INLINE resources instead, as so:</li>\\n\"+\n     \"</ul>\\n\"+\n     \"<code>\\n\"+\n     \"from bokeh.resources import INLINE\\n\"+\n     \"output_notebook(resources=INLINE)\\n\"+\n     \"</code>\\n\"+\n     \"</div>\"}};\n\n  function display_loaded() {\n    var el = document.getElementById(\"1265\");\n    if (el != null) {\n      el.textContent = \"BokehJS is loading...\";\n    }\n    if (root.Bokeh !== undefined) {\n      if (el != null) {\n        el.textContent = \"BokehJS \" + root.Bokeh.version + \" successfully loaded.\";\n      }\n    } else if (Date.now() < root._bokeh_timeout) {\n      setTimeout(display_loaded, 100)\n    }\n  }\n\n\n  function run_callbacks() {\n    try {\n      root._bokeh_onload_callbacks.forEach(function(callback) {\n        if (callback != null)\n          callback();\n      });\n    } finally {\n      delete root._bokeh_onload_callbacks\n    }\n    console.debug(\"Bokeh: all callbacks have finished\");\n  }\n\n  function load_libs(css_urls, js_urls, callback) {\n    if (css_urls == null) css_urls = [];\n    if (js_urls == null) js_urls = [];\n\n    root._bokeh_onload_callbacks.push(callback);\n    if (root._bokeh_is_loading > 0) {\n      console.debug(\"Bokeh: BokehJS is being loaded, scheduling callback at\", now());\n      return null;\n    }\n    if (js_urls == null || js_urls.length === 0) {\n      run_callbacks();\n      return null;\n    }\n    console.debug(\"Bokeh: BokehJS not loaded, scheduling load and callback at\", now());\n    root._bokeh_is_loading = css_urls.length + js_urls.length;\n\n    function on_load() {\n      root._bokeh_is_loading--;\n      if (root._bokeh_is_loading === 0) {\n        console.debug(\"Bokeh: all BokehJS libraries/stylesheets loaded\");\n        run_callbacks()\n      }\n    }\n\n    function on_error() {\n      console.error(\"failed to load \" + url);\n    }\n\n    for (var i = 0; i < css_urls.length; i++) {\n      var url = css_urls[i];\n      const element = document.createElement(\"link\");\n      element.onload = on_load;\n      element.onerror = on_error;\n      element.rel = \"stylesheet\";\n      element.type = \"text/css\";\n      element.href = url;\n      console.debug(\"Bokeh: injecting link tag for BokehJS stylesheet: \", url);\n      document.body.appendChild(element);\n    }\n\n    for (var i = 0; i < js_urls.length; i++) {\n      var url = js_urls[i];\n      var element = document.createElement('script');\n      element.onload = on_load;\n      element.onerror = on_error;\n      element.async = false;\n      element.src = url;\n      console.debug(\"Bokeh: injecting script tag for BokehJS library: \", url);\n      document.head.appendChild(element);\n    }\n  };var element = document.getElementById(\"1265\");\n  if (element == null) {\n    console.error(\"Bokeh: ERROR: autoload.js configured with elementid '1265' but no matching script tag was found. \")\n    return false;\n  }\n\n  function inject_raw_css(css) {\n    const element = document.createElement(\"style\");\n    element.appendChild(document.createTextNode(css));\n    document.body.appendChild(element);\n  }\n\n  var js_urls = [\"https://cdn.pydata.org/bokeh/release/bokeh-1.2.0.min.js\", \"https://cdn.pydata.org/bokeh/release/bokeh-widgets-1.2.0.min.js\", \"https://cdn.pydata.org/bokeh/release/bokeh-tables-1.2.0.min.js\", \"https://cdn.pydata.org/bokeh/release/bokeh-gl-1.2.0.min.js\"];\n  var css_urls = [\"https://cdn.pydata.org/bokeh/release/bokeh-1.2.0.min.css\", \"https://cdn.pydata.org/bokeh/release/bokeh-widgets-1.2.0.min.css\", \"https://cdn.pydata.org/bokeh/release/bokeh-tables-1.2.0.min.css\"];\n\n  var inline_js = [\n    function(Bokeh) {\n      Bokeh.set_log_level(\"info\");\n    },\n    \n    function(Bokeh) {\n      \n    },\n    function(Bokeh) {} // ensure no trailing comma for IE\n  ];\n\n  function run_inline_js() {\n    \n    if ((root.Bokeh !== undefined) || (force === true)) {\n      for (var i = 0; i < inline_js.length; i++) {\n        inline_js[i].call(root, root.Bokeh);\n      }if (force === true) {\n        display_loaded();\n      }} else if (Date.now() < root._bokeh_timeout) {\n      setTimeout(run_inline_js, 100);\n    } else if (!root._bokeh_failed_load) {\n      console.log(\"Bokeh: BokehJS failed to load within specified timeout.\");\n      root._bokeh_failed_load = true;\n    } else if (force !== true) {\n      var cell = $(document.getElementById(\"1265\")).parents('.cell').data().cell;\n      cell.output_area.append_execute_result(NB_LOAD_WARNING)\n    }\n\n  }\n\n  if (root._bokeh_is_loading === 0) {\n    console.debug(\"Bokeh: BokehJS loaded, going straight to plotting\");\n    run_inline_js();\n  } else {\n    load_libs(css_urls, js_urls, function() {\n      console.debug(\"Bokeh: BokehJS plotting callback run at\", now());\n      run_inline_js();\n    });\n  }\n}(window));"
     },
     "metadata": {},
     "output_type": "display_data"
    },
    {
     "data": {
      "text/html": [
       "\n",
       "\n",
       "\n",
       "\n",
       "\n",
       "\n",
       "  <div class=\"bk-root\" id=\"e4b2df1f-f579-44ee-a693-ed19d600543d\" data-root-id=\"1266\"></div>\n"
      ]
     },
     "metadata": {},
     "output_type": "display_data"
    },
    {
     "data": {
      "application/javascript": [
       "(function(root) {\n",
       "  function embed_document(root) {\n",
       "    \n",
       "  var docs_json = {\"23703828-1bc5-4159-9796-6dd8a1280bd2\":{\"roots\":{\"references\":[{\"attributes\":{},\"id\":\"1291\",\"type\":\"WheelZoomTool\"},{\"attributes\":{},\"id\":\"1332\",\"type\":\"BasicTickFormatter\"},{\"attributes\":{\"callback\":null,\"end\":1559347200000.0,\"start\":1496188800000.0},\"id\":\"1269\",\"type\":\"DataRange1d\"},{\"attributes\":{},\"id\":\"1288\",\"type\":\"PanTool\"},{\"attributes\":{},\"id\":\"1337\",\"type\":\"Selection\"},{\"attributes\":{},\"id\":\"1290\",\"type\":\"ResetTool\"},{\"attributes\":{\"callback\":null,\"data\":{\"x\":{\"__ndarray__\":\"AAAAV9c5b0IAAID7y01vQgAAAAl3YG9CAACArWt0b0IAAICGu4dvQgAAACuwm29CAAAABACvb0IAAICo9MJvQgAAAE3p1m9CAAAAJjnqb0IAAIDKLf5vQgAAwNG+CHBCAAAAJLkScEIAAEB2sxxwQgAAQJe2JXBCAACA6bAvcEIAAADWWDlwQgAAQChTQ3BCAADAFPtMcEIAAABn9VZwQgAAQLnvYHBCAADApZdqcEIAAAD4kXRwQgAAgOQ5fnBCAADANjSIcEIAAACJLpJwQgAAAKoxm3BCAABA/CulcEIAAMDo065wQgAAADvOuHBCAACAJ3bCcEIAAMB5cMxwQgAAAMxq1nBCAACAuBLgcEIAAMAKDepwQgAAQPe083BCAACASa/9cEIAAMCbqQdxQgAAwLysEHFCAAAAD6cacUIAAID7TiRxQgAAwE1JLnFCAABAOvE3cUIAAICM60FxQgAAwN7lS3FCAABAy41VcUIAAIAdiF9xQgAAAAowaXFCAABAXCpzcUIAAICuJH1xQgAAQDV6hnFCAACAh3SQcUIAAAB0HJpxQgAAQMYWpHFCAADAsr6tcUIAAAAFubdxQgAAQFezwXFCAADAQ1vLcUIAAACWVdVxQgAAgIL93nFCAADA1PfocUIAAAAn8vJxQgAAAEj1+3FCAABAmu8FckIAAMCGlw9yQgAAANmRGXJCAACAxTkjckIAAMAXNC1yQgAAAGouN3JCAACAVtZAckIAAMCo0EpyQgAAQJV4VHJCAACA53JeckIAAMA5bWhyQgAAwFpwcXJCAAAArWp7ckIAAICZEoVyQgAAwOsMj3JCAABA2LSYckIAAIAqr6JyQgAAwHyprHJCAABAaVG2ckIAAIC7S8ByQgAAAKjzyXJCAABA+u3TckIAAIBM6N1yQgAAgG3r5nJCAADAv+XwckIAAECsjfpyQgAAgP6HBHNCAAAA6y8Oc0IAAEA9KhhzQgAAgI8kInNCAAAAfMwrc0IAAEDOxjVzQgAAwLpuP3NCAAAADWlJc0IAAEBfY1NzQgAAAOa4XHNCAABAOLNmc0IAAMAkW3BzQgAAAHdVenNCAACAY/2Dc0IAAMC1941zQgAAAAjyl3NCAACA9Jmhc0IAAMBGlKtzQgAAQDM8tXNCAACAhTa/c0IAAMDXMMlzQgAAwPgz0nNCAAAASy7cc0IAAIA31uVzQgAAwInQ73NCAABAdnj5c0IAAIDIcgN0QgAAwBptDXRCAABABxUXdEIAAIBZDyF0QgAAAEa3KnRCAABAmLE0dEIAAIDqqz50QgAAgAuvR3RCAADAXalRdEIAAEBKUVt0QgAAgJxLZXRCAAAAifNudEIAAEDb7Xh0QgAAgC3ognRCAAAAGpCMdEIAAEBsipZ0QgAAwFgyoHRCAAAAqyyqdEIAAED9JrR0QgAAQB4qvXRCAACAcCTHdEIAAABdzNB0QgAAQK/G2nRCAADAm27kdEIAAADuaO50QgAAQEBj+HRCAADALAsCdUIAAAB/BQx1QgAAgGutFXVCAADAvacfdUIAAAAQoil1QgAAwJb3MnVCAAAA6fE8dUIAAIDVmUZ1QgAAwCeUUHVCAABAFDxadUIAAIBmNmR1QgAAwLgwbnVCAABApdh3dUIAAID30oF1QgAAAOR6i3VCAABANnWVdUIAAICIb591QgAAgKlyqHVCAADA+2yydUIAAEDoFLx1QgAAgDoPxnVCAAAAJ7fPdUIAAEB5sdl1QgAAgMur43VCAAAAuFPtdUIAAEAKTvd1QgAAwPb1AHZCAAAASfAKdkIAAECb6hR2QgAAQLztHXZCAACADugndkIAAAD7jzF2QgAAQE2KO3ZCAADAOTJFdkIAAACMLE92QgAAQN4mWXZCAADAys5idkIAAAAdyWx2QgAAgAlxdnZCAADAW2uAdkIAAACuZYp2QgAAAM9ok3ZCAABAIWOddkIAAMANC6d2QgAAAGAFsXZC\",\"dtype\":\"float64\",\"shape\":[186]},\"y\":[72,76,74,69,74,65,61,65,73,71,70,59,66,70,65,70,68,65,60,63,71,71,65,55,62,64,64,60,65,66,59,58,62,58,58,51,58,59,59,53,60,58,56,60,61,58,57,48,58,60,55,59,57,56,53,59,64,59,56,50,57,60,61,70,65,66,64,70,74,74,72,66,74,80,78,79,86,100,72,74,78,68,67,58,65,69,71,65,68,77,69,69,72,68,64,53,59,58,66,57,61,58,57,65,61,56,54,46,53,54,55,52,51,59,51,54,61,61,62,48,52,54,55,53,56,92,53,51,58,55,55,46,51,54,53,50,49,58,58,49,58,63,55,47,51,55,53,50,52,64,48,53,55,52,56,45,57,54,56,47,50,70,54,51,81,55,52,46,51,54,54,51,53,88,64,49,52,55,56,49,53,52,52,46,50,56]},\"selected\":{\"id\":\"1337\",\"type\":\"Selection\"},\"selection_policy\":{\"id\":\"1338\",\"type\":\"UnionRenderers\"}},\"id\":\"1305\",\"type\":\"ColumnDataSource\"},{\"attributes\":{\"text\":\"Compare data for Mexico\"},\"id\":\"1267\",\"type\":\"Title\"},{\"attributes\":{\"source\":{\"id\":\"1305\",\"type\":\"ColumnDataSource\"}},\"id\":\"1309\",\"type\":\"CDSView\"},{\"attributes\":{},\"id\":\"1338\",\"type\":\"UnionRenderers\"},{\"attributes\":{\"line_color\":\"purple\",\"line_width\":3,\"x\":{\"field\":\"x\"},\"y\":{\"field\":\"y\"}},\"id\":\"1301\",\"type\":\"Line\"},{\"attributes\":{\"below\":[{\"id\":\"1277\",\"type\":\"LinearAxis\"}],\"center\":[{\"id\":\"1281\",\"type\":\"Grid\"},{\"id\":\"1286\",\"type\":\"Grid\"}],\"left\":[{\"id\":\"1282\",\"type\":\"LinearAxis\"}],\"plot_height\":400,\"plot_width\":800,\"renderers\":[{\"id\":\"1303\",\"type\":\"GlyphRenderer\"},{\"id\":\"1308\",\"type\":\"GlyphRenderer\"}],\"title\":{\"id\":\"1267\",\"type\":\"Title\"},\"toolbar\":{\"id\":\"1293\",\"type\":\"Toolbar\"},\"x_range\":{\"id\":\"1269\",\"type\":\"DataRange1d\"},\"x_scale\":{\"id\":\"1273\",\"type\":\"LinearScale\"},\"y_range\":{\"id\":\"1271\",\"type\":\"DataRange1d\"},\"y_scale\":{\"id\":\"1275\",\"type\":\"LinearScale\"}},\"id\":\"1266\",\"subtype\":\"Figure\",\"type\":\"Plot\"},{\"attributes\":{\"callback\":null,\"tooltips\":[[\"month\",\"@x{datetime}\"],[\"Total searches\",\"@y\"]]},\"id\":\"1292\",\"type\":\"HoverTool\"},{\"attributes\":{},\"id\":\"1287\",\"type\":\"SaveTool\"},{\"attributes\":{\"axis_label\":\"Total search\",\"formatter\":{\"id\":\"1332\",\"type\":\"BasicTickFormatter\"},\"ticker\":{\"id\":\"1283\",\"type\":\"BasicTicker\"}},\"id\":\"1282\",\"type\":\"LinearAxis\"},{\"attributes\":{\"line_alpha\":0.1,\"line_color\":\"#1f77b4\",\"line_width\":3,\"x\":{\"field\":\"x\"},\"y\":{\"field\":\"y\"}},\"id\":\"1307\",\"type\":\"Line\"},{\"attributes\":{},\"id\":\"1273\",\"type\":\"LinearScale\"},{\"attributes\":{},\"id\":\"1278\",\"type\":\"BasicTicker\"},{\"attributes\":{\"axis_label\":\"Month\",\"formatter\":{\"id\":\"1310\",\"type\":\"DatetimeTickFormatter\"},\"ticker\":{\"id\":\"1278\",\"type\":\"BasicTicker\"}},\"id\":\"1277\",\"type\":\"LinearAxis\"},{\"attributes\":{\"line_alpha\":0.1,\"line_color\":\"#1f77b4\",\"line_width\":3,\"x\":{\"field\":\"x\"},\"y\":{\"field\":\"y\"}},\"id\":\"1302\",\"type\":\"Line\"},{\"attributes\":{\"days\":[\"%d %B %Y\"],\"months\":[\"%d %B %Y\"],\"years\":[\"%d %B %Y\"]},\"id\":\"1310\",\"type\":\"DatetimeTickFormatter\"},{\"attributes\":{},\"id\":\"1335\",\"type\":\"Selection\"},{\"attributes\":{\"callback\":null},\"id\":\"1271\",\"type\":\"DataRange1d\"},{\"attributes\":{\"bottom_units\":\"screen\",\"fill_alpha\":{\"value\":0.5},\"fill_color\":{\"value\":\"lightgrey\"},\"left_units\":\"screen\",\"level\":\"overlay\",\"line_alpha\":{\"value\":1.0},\"line_color\":{\"value\":\"black\"},\"line_dash\":[4,4],\"line_width\":{\"value\":2},\"render_mode\":\"css\",\"right_units\":\"screen\",\"top_units\":\"screen\"},\"id\":\"1334\",\"type\":\"BoxAnnotation\"},{\"attributes\":{\"callback\":null,\"data\":{\"x\":{\"__ndarray__\":\"AADA1LzFdUIAAEDBZM91QgAAgBNf2XVCAADAZVnjdUIAAEBSAe11QgAAgKT79nVCAAAAkaMAdkIAAEDjnQp2QgAAgDWYFHZCAACAVpsddkIAAMColSd2QgAAQJU9MXZCAACA5zc7dkIAAADU30R2QgAAQCbaTnZCAACAeNRYdkIAAABlfGJ2QgAAQLd2bHZCAADAox52dkIAAAD2GIB2QgAAQEgTinZCAABAaRaTdkIAAIC7EJ12QgAAAKi4pnZCAABA+rKwdkI=\",\"dtype\":\"float64\",\"shape\":[25]},\"y\":{\"__ndarray__\":\"0xN6zXosuD9NViknCjLrPwAAAAAAAAAA3o4bGlwhAkAa/YOK4WkyQE1WKScKMgtAyJjYgJk37j/ejhsaXCECQNMTes16LPg/fV+H8L/iAkAAAAAAAABZQHrNeiwYtFRAIvyvuCyNGEDa3za/gxUdQN6OGxpcIRJANEMO9xZrJ0BFV/34vg41QEMkjrx81CNAj6blLqrAIUD51KWGkSI3QNrfNr+DFS1AKhFzjIkNMEBZ0cpz6yYVQIQrROLIyzdA3o4bGlwhQkA=\",\"dtype\":\"float64\",\"shape\":[25]}},\"selected\":{\"id\":\"1335\",\"type\":\"Selection\"},\"selection_policy\":{\"id\":\"1336\",\"type\":\"UnionRenderers\"}},\"id\":\"1300\",\"type\":\"ColumnDataSource\"},{\"attributes\":{\"source\":{\"id\":\"1300\",\"type\":\"ColumnDataSource\"}},\"id\":\"1304\",\"type\":\"CDSView\"},{\"attributes\":{\"ticker\":{\"id\":\"1278\",\"type\":\"BasicTicker\"}},\"id\":\"1281\",\"type\":\"Grid\"},{\"attributes\":{\"dimension\":1,\"ticker\":{\"id\":\"1283\",\"type\":\"BasicTicker\"}},\"id\":\"1286\",\"type\":\"Grid\"},{\"attributes\":{},\"id\":\"1275\",\"type\":\"LinearScale\"},{\"attributes\":{\"line_color\":\"red\",\"line_width\":3,\"x\":{\"field\":\"x\"},\"y\":{\"field\":\"y\"}},\"id\":\"1306\",\"type\":\"Line\"},{\"attributes\":{\"data_source\":{\"id\":\"1305\",\"type\":\"ColumnDataSource\"},\"glyph\":{\"id\":\"1306\",\"type\":\"Line\"},\"hover_glyph\":null,\"muted_glyph\":null,\"nonselection_glyph\":{\"id\":\"1307\",\"type\":\"Line\"},\"selection_glyph\":null,\"view\":{\"id\":\"1309\",\"type\":\"CDSView\"}},\"id\":\"1308\",\"type\":\"GlyphRenderer\"},{\"attributes\":{\"active_drag\":\"auto\",\"active_inspect\":\"auto\",\"active_multi\":null,\"active_scroll\":\"auto\",\"active_tap\":\"auto\",\"tools\":[{\"id\":\"1287\",\"type\":\"SaveTool\"},{\"id\":\"1288\",\"type\":\"PanTool\"},{\"id\":\"1289\",\"type\":\"BoxZoomTool\"},{\"id\":\"1290\",\"type\":\"ResetTool\"},{\"id\":\"1291\",\"type\":\"WheelZoomTool\"},{\"id\":\"1292\",\"type\":\"HoverTool\"}]},\"id\":\"1293\",\"type\":\"Toolbar\"},{\"attributes\":{\"overlay\":{\"id\":\"1334\",\"type\":\"BoxAnnotation\"}},\"id\":\"1289\",\"type\":\"BoxZoomTool\"},{\"attributes\":{},\"id\":\"1336\",\"type\":\"UnionRenderers\"},{\"attributes\":{},\"id\":\"1283\",\"type\":\"BasicTicker\"},{\"attributes\":{\"data_source\":{\"id\":\"1300\",\"type\":\"ColumnDataSource\"},\"glyph\":{\"id\":\"1301\",\"type\":\"Line\"},\"hover_glyph\":null,\"muted_glyph\":null,\"nonselection_glyph\":{\"id\":\"1302\",\"type\":\"Line\"},\"selection_glyph\":null,\"view\":{\"id\":\"1304\",\"type\":\"CDSView\"}},\"id\":\"1303\",\"type\":\"GlyphRenderer\"}],\"root_ids\":[\"1266\"]},\"title\":\"Bokeh Application\",\"version\":\"1.2.0\"}};\n",
       "  var render_items = [{\"docid\":\"23703828-1bc5-4159-9796-6dd8a1280bd2\",\"roots\":{\"1266\":\"e4b2df1f-f579-44ee-a693-ed19d600543d\"}}];\n",
       "  root.Bokeh.embed.embed_items_notebook(docs_json, render_items);\n",
       "\n",
       "  }\n",
       "  if (root.Bokeh !== undefined) {\n",
       "    embed_document(root);\n",
       "  } else {\n",
       "    var attempts = 0;\n",
       "    var timer = setInterval(function(root) {\n",
       "      if (root.Bokeh !== undefined) {\n",
       "        embed_document(root);\n",
       "        clearInterval(timer);\n",
       "      }\n",
       "      attempts++;\n",
       "      if (attempts > 100) {\n",
       "        console.log(\"Bokeh: ERROR: Unable to run BokehJS code because BokehJS library is missing\");\n",
       "        clearInterval(timer);\n",
       "      }\n",
       "    }, 10, root)\n",
       "  }\n",
       "})(window);"
      ],
      "application/vnd.bokehjs_exec.v0+json": ""
     },
     "metadata": {
      "application/vnd.bokehjs_exec.v0+json": {
       "id": "1266"
      }
     },
     "output_type": "display_data"
    }
   ],
   "source": [
    "trends.Trends(coco.convert(names=selected_country_iso_code, to='name_short'), validation_df = down_df).plot_validation_comparison"
   ]
  },
  {
   "cell_type": "code",
   "execution_count": null,
   "metadata": {},
   "outputs": [],
   "source": []
  }
 ],
 "metadata": {
  "kernelspec": {
   "display_name": "Python 3",
   "language": "python",
   "name": "python3"
  },
  "language_info": {
   "codemirror_mode": {
    "name": "ipython",
    "version": 3
   },
   "file_extension": ".py",
   "mimetype": "text/x-python",
   "name": "python",
   "nbconvert_exporter": "python",
   "pygments_lexer": "ipython3",
   "version": "3.5.6"
  }
 },
 "nbformat": 4,
 "nbformat_minor": 2
}
