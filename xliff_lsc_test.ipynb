{
 "cells": [
  {
   "cell_type": "markdown",
   "metadata": {},
   "source": [
    "# Load and parse the Language - Script - Locale(/country) codes"
   ]
  },
  {
   "cell_type": "code",
   "execution_count": 1,
   "metadata": {},
   "outputs": [],
   "source": [
    "import TWB\n",
    "import pandas as pd\n",
    "import glob"
   ]
  },
  {
   "cell_type": "code",
   "execution_count": 2,
   "metadata": {},
   "outputs": [],
   "source": [
    "data_location = '/Users/thiesgehrmann/Downloads/TWB/documents/hackathon-for-good-2019_TWB-challenge_files/*.sdlxliff'\n",
    "xliff_files = glob.glob(data_location)"
   ]
  },
  {
   "cell_type": "code",
   "execution_count": 17,
   "metadata": {},
   "outputs": [],
   "source": [
    "# Get the Target Languages (TL) from the XLIFF files\n",
    "#TL = []\n",
    "#for f in xliff_files:\n",
    "#    try:\n",
    "#        TL.append(TWB.XLIFF(f).target_lang)\n",
    "#    except Exception as e:\n",
    "#        print(f)\n",
    "TL = list(pd.read_pickle('data/target_languages.pkl')[0].values)\n",
    "\n",
    "# Count them\n",
    "tlc = {}\n",
    "for tl in TL:\n",
    "    if tl is None:\n",
    "        continue\n",
    "    #fi\n",
    "    tlc[tl.upper()] = tlc.get(tl.upper(), 0) + 1\n",
    "#efor"
   ]
  },
  {
   "cell_type": "code",
   "execution_count": 18,
   "metadata": {},
   "outputs": [
    {
     "data": {
      "text/plain": [
       "[('HE-IL', 1),\n",
       " ('SWC-CD', 1),\n",
       " ('FR-BE', 1),\n",
       " ('RHG-MM', 1),\n",
       " ('KK-KZ', 1),\n",
       " ('NN-NO', 1),\n",
       " ('EN-IN', 1),\n",
       " ('EU-ES', 1),\n",
       " ('MG', 1),\n",
       " ('MK-MK', 1),\n",
       " ('MFI-NG', 1),\n",
       " ('MN-MN', 1),\n",
       " ('TK-TM', 1),\n",
       " ('BS-LATN-BA', 1),\n",
       " ('HR-HR', 1),\n",
       " ('RN-BI', 1),\n",
       " ('MRT-NG', 1),\n",
       " ('KY-KG', 1),\n",
       " ('FO-FO', 1),\n",
       " ('ZH-HK', 1),\n",
       " ('KM-KH', 1),\n",
       " ('HY-AM', 2),\n",
       " ('YO-NG', 2),\n",
       " ('UK-UA', 2),\n",
       " ('CA-ES', 2),\n",
       " ('RHL-MM', 2),\n",
       " ('UZ-LATN-UZ', 2),\n",
       " ('NDC-MZ', 2),\n",
       " ('MS-MY', 2),\n",
       " ('LG-UG', 2),\n",
       " ('KN-IN', 2),\n",
       " ('SI-LK', 2),\n",
       " ('HAU', 2),\n",
       " ('GU-IN', 2),\n",
       " ('DE-CH', 2),\n",
       " ('PL-PL', 2),\n",
       " ('KR-KAU', 3),\n",
       " ('SEH-ZW', 3),\n",
       " ('KA-GE', 3),\n",
       " ('LN', 3),\n",
       " ('AF-ZA', 3),\n",
       " ('HA-HAU', 3),\n",
       " ('SK-SK', 3),\n",
       " ('HU-HU', 4),\n",
       " ('SO-SO', 4),\n",
       " ('EO-XN', 4),\n",
       " ('FIL-PH', 4),\n",
       " ('SHU-TD', 5),\n",
       " ('FF', 5),\n",
       " ('RW', 5),\n",
       " ('PRS', 6),\n",
       " ('TI', 6),\n",
       " ('LT-LT', 6),\n",
       " ('RO-RO', 7),\n",
       " ('UR-PK', 7),\n",
       " ('SL-SI', 7),\n",
       " ('NL-BE', 7),\n",
       " ('TR-TR', 8),\n",
       " ('VI-VN', 9),\n",
       " ('IS-IS', 10),\n",
       " ('NE-NP', 10),\n",
       " ('DA-DK', 10),\n",
       " ('SV-SE', 10),\n",
       " ('PS-AF', 10),\n",
       " ('SR-CYRL-RS', 12),\n",
       " ('SQ-AL', 12),\n",
       " ('KMR', 12),\n",
       " ('ET-EE', 13),\n",
       " ('HT-HT', 14),\n",
       " ('CS-CZ', 15),\n",
       " ('BG-BG', 15),\n",
       " ('TA-IN', 15),\n",
       " ('EL-GR', 16),\n",
       " ('KR', 16),\n",
       " ('LV-LV', 16),\n",
       " ('ZH-TW', 18),\n",
       " ('SN-ZW', 19),\n",
       " ('CKB', 20),\n",
       " ('EN-IE', 21),\n",
       " ('KO-KR', 23),\n",
       " ('FI-FI', 24),\n",
       " ('ID-ID', 25),\n",
       " ('JA-JP', 31),\n",
       " ('FA-IR', 33),\n",
       " ('SR-LATN-RS', 37),\n",
       " ('AM-AM', 39),\n",
       " ('NL-NL', 43),\n",
       " ('ZU-ZA', 45),\n",
       " ('HA', 52),\n",
       " ('PT-MZ', 61),\n",
       " ('ES-CO', 66),\n",
       " ('SW-KE', 74),\n",
       " ('HI-IN', 77),\n",
       " ('ZH-CN', 91),\n",
       " ('PT-BR', 101),\n",
       " ('MY-MM', 109),\n",
       " ('NB-NO', 113),\n",
       " ('RU-RU', 142),\n",
       " ('PT-PT', 192),\n",
       " ('IT-IT', 207),\n",
       " ('DE-DE', 254),\n",
       " ('BN-IN', 429),\n",
       " ('EN-US', 600),\n",
       " ('ES-MX', 901),\n",
       " ('AR-SA', 1109),\n",
       " ('ES-ES', 1111),\n",
       " ('FR', 1699),\n",
       " ('EN-GB', 1701),\n",
       " ('FR-FR', 2296)]"
      ]
     },
     "execution_count": 18,
     "metadata": {},
     "output_type": "execute_result"
    }
   ],
   "source": [
    "sorted(tlc.items(), key=lambda x: x[1])"
   ]
  },
  {
   "cell_type": "markdown",
   "metadata": {},
   "source": [
    "## Target code lookup"
   ]
  },
  {
   "cell_type": "code",
   "execution_count": 20,
   "metadata": {},
   "outputs": [
    {
     "data": {
      "text/plain": [
       "code(language=language(iso3='SRP', iso2='SR', english='SERBIAN', french='SERBE', german='SERBISCH'), script=script(code='CYRL', number=220, name='CYRILLIC', alias='CYRILLIC', direction='L-TO-R', version=1.0, characters=443.0, remarks=None), country=country(country='SERBIA', iso2='RS', iso3='SRB', un=688))"
      ]
     },
     "execution_count": 20,
     "metadata": {},
     "output_type": "execute_result"
    }
   ],
   "source": [
    "# Lookup for a difficult example\n",
    "lsc = TWB.LSC()\n",
    "lsc.detect('sr-Cyrl-RS')"
   ]
  },
  {
   "cell_type": "markdown",
   "metadata": {},
   "source": [
    "## Check if language is spoken in a country"
   ]
  },
  {
   "cell_type": "code",
   "execution_count": 9,
   "metadata": {},
   "outputs": [
    {
     "data": {
      "text/plain": [
       "['GER (B)']"
      ]
     },
     "execution_count": 9,
     "metadata": {},
     "output_type": "execute_result"
    }
   ],
   "source": [
    "CL = TWB.CountryLanguages()\n",
    "CL.country('DEU')"
   ]
  },
  {
   "cell_type": "code",
   "execution_count": 21,
   "metadata": {},
   "outputs": [
    {
     "data": {
      "text/plain": [
       "True"
      ]
     },
     "execution_count": 21,
     "metadata": {},
     "output_type": "execute_result"
    }
   ],
   "source": [
    "CL.is_language_relevant('NAM', 'ENG')"
   ]
  }
 ],
 "metadata": {
  "kernelspec": {
   "display_name": "Python 3",
   "language": "python",
   "name": "python3"
  },
  "language_info": {
   "codemirror_mode": {
    "name": "ipython",
    "version": 3
   },
   "file_extension": ".py",
   "mimetype": "text/x-python",
   "name": "python",
   "nbconvert_exporter": "python",
   "pygments_lexer": "ipython3",
   "version": "3.6.8"
  }
 },
 "nbformat": 4,
 "nbformat_minor": 2
}
