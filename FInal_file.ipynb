{
 "cells": [
  {
   "cell_type": "code",
   "execution_count": 60,
   "metadata": {
    "ExecuteTime": {
     "end_time": "2019-06-15T15:44:30.784211Z",
     "start_time": "2019-06-15T15:44:30.758931Z"
    },
    "code_folding": []
   },
   "outputs": [],
   "source": [
    "import numpy as np\n",
    "import pandas as pd\n",
    "\n",
    "from bokeh.io import show , output_notebook\n",
    "from bokeh.models import ColumnDataSource\n",
    "from bokeh.models.widgets import DataTable, DateFormatter, TableColumn, Dropdown, CheckboxGroup, Button, Slider, MultiSelect\n",
    "from bokeh.models.callbacks import CustomJS\n",
    "from bokeh.layouts import column, gridplot, row\n",
    "from bokeh.server.server import Server\n",
    "\n",
    "def twb_app(doc):\n",
    "   # output_notebook()\n",
    "\n",
    "    #data_dir = '/home/antonis/TWB_translators/'\n",
    "    #metadata = pd.read_excel(data_dir + 'Hackathon-for-Good-2019_TWB-Challenge_Metadata.xlsx')\n",
    "    metadata = pd.read_pickle('data/english_document_data_updated.pkl')\n",
    "    source = ColumnDataSource(metadata)\n",
    "    \n",
    "    extra_features = pd.read_pickle('data/freq_content_updated.pkl')\n",
    "    metadata['Age'] = extra_features['Age']\n",
    "    metadata['Gender'] = extra_features['Gender']\n",
    "    metadata['Disabled'] = extra_features['disabl '] > 0.001\n",
    "    \n",
    "    columns = []\n",
    "    for i in metadata.columns:\n",
    "        temp = TableColumn(field=i, title=i)\n",
    "        columns.append(temp)\n",
    "\n",
    "    data_table = DataTable(source=source, columns=columns, width=1500, height=800)\n",
    "\n",
    "    # click handler for Age variable\n",
    "    def dropdown_change(attr, old, new):\n",
    "        # find appropriates data rows based on new value\n",
    "        new_data_view = metadata.loc[metadata['Age'] == menu[int(new)][0]]\n",
    "        # update source of data table\n",
    "        source = ColumnDataSource(new_data_view)\n",
    "        new_data_table = DataTable(source=source, columns=columns, width=1500, height=800)\n",
    "        # update the layout of the doc with new data table\n",
    "        col.children[1] = new_data_table\n",
    "\n",
    "    menu = [('0-18', '0'), ('18-65', '1'), ('65-', '2')]\n",
    "    dropdown = Dropdown(label='Age', button_type='warning', menu=menu)\n",
    "    dropdown.on_change('value', dropdown_change)\n",
    "\n",
    "    def dropdown2_change(attr, old, new):\n",
    "        new_data_view = metadata.loc[metadata['Gender'] == menu2[int(new)][0]]\n",
    "        source = ColumnDataSource(new_data_view)\n",
    "        new_data_table = DataTable(source=source, columns=columns, width=1500, height=800)\n",
    "        col.children[1] = new_data_table\n",
    "         \n",
    "    menu2 = [('Men', '0'), ('Women', '1')]\n",
    "    dropdown2 = Dropdown(label='Gender', button_type='warning', menu=menu2)\n",
    "    dropdown2.on_change('value', dropdown2_change)\n",
    "    \n",
    "    def dropdown_change3(attrname, old, new):\n",
    "        # find appropriates data rows based on new value\n",
    "        #vcomp = multi_select.value\n",
    "        new_data_view = metadata.loc[(metadata['Source_country'] == menu3[int(new)][0])]\n",
    "        # update source of data table\n",
    "        source = ColumnDataSource(new_data_view)\n",
    "        new_data_table = DataTable(source=source, columns=columns, width=1500, height=800)\n",
    "        # update the layout of the doc with new data table\n",
    "        col.children[1] = new_data_table\n",
    "\n",
    "    temp=metadata.Source_country.unique()\n",
    "    temp=sorted(temp)\n",
    "    menu3=[]\n",
    "    for i in range(len(temp)):\n",
    "        menu3.append((temp[i], str(i)))\n",
    "        #menu3.append(temp[i])\n",
    "\n",
    "    dropdown3 = Dropdown(label='Source country', button_type='warning', menu=menu3)\n",
    "    #multi_select = MultiSelect(title=\"Source Country:\", value=[\"GR\"],options=menu3)\n",
    "    dropdown3.on_change('value', dropdown_change3)\n",
    "    \n",
    "    def dropdown_change4(attrname, old, new):\n",
    "        # find appropriates data rows based on new value\n",
    "        #vcomp = multi_select.value\n",
    "        new_data_view = metadata.loc[(metadata['Target_country'] == menu3[int(new)][0])]\n",
    "        # update source of data table\n",
    "        source = ColumnDataSource(new_data_view)\n",
    "        new_data_table = DataTable(source=source, columns=columns, width=1500, height=800)\n",
    "        # update the layout of the doc with new data table\n",
    "        col.children[1] = new_data_table\n",
    "\n",
    "\n",
    "    dropdown4 = Dropdown(label='Target country', button_type='warning', menu=menu3)\n",
    "    #multi_select = MultiSelect(title=\"Source Country:\", value=[\"GR\"],options=menu3)\n",
    "    dropdown4.on_change('value', dropdown_change4)\n",
    "    \n",
    "    def dropdown_change5(attrname, old, new):\n",
    "        # find appropriates data rows based on new value\n",
    "        #vcomp = multi_select.value\n",
    "        new_data_view = metadata.loc[(metadata['Format'] == menu4[int(new)][0])]\n",
    "        # update source of data table\n",
    "        source = ColumnDataSource(new_data_view)\n",
    "        new_data_table = DataTable(source=source, columns=columns, width=1500, height=800)\n",
    "        # update the layout of the doc with new data table\n",
    "        col.children[1] = new_data_table\n",
    "\n",
    "    temp=metadata.Format.unique()\n",
    "    temp=sorted(temp)\n",
    "    menu4=[]\n",
    "    for i in range(len(temp)):\n",
    "        menu4.append((temp[i], str(i)))    \n",
    "\n",
    "    dropdown5 = Dropdown(label='Format', button_type='warning', menu=menu4)\n",
    "    #multi_select = MultiSelect(title=\"Source Country:\", value=[\"GR\"],options=menu3)\n",
    "    dropdown5.on_change('value', dropdown_change5)\n",
    "\n",
    "    # This works by returning a list of the checked checkboxes' indexes after a click\n",
    "    def checkbox_change(new):\n",
    "        # naive way of doing the changes\n",
    "        '''\n",
    "        if len(new) == 0:\n",
    "            print(\"Gamieste\")\n",
    "            new_data_view = metadata.loc[(metadata['Disabled person'] == False) & (metadata['Unspecified'] == False)]\n",
    "        elif len(new) == 1:\n",
    "            new_data_view = metadata.loc[(metadata[new[0]] == True) & (metadata[['Disabled person', 'Unspecified'].remove(new[0])] == False)]\n",
    "        else:\n",
    "            new_data_view = metadata.loc[(metadata[new[0]] == True) & (metadata[new[1]] == True)]\n",
    "        '''\n",
    "        if len(new) == 0:\n",
    "            new_data_view = metadata.loc[metadata['Disabled person'] == False]\n",
    "        else:\n",
    "            new_data_view = metadata.loc[metadata['Disabled person'] == True]\n",
    "        source = ColumnDataSource(new_data_view)\n",
    "        data_table = DataTable(source=source, columns=columns, width=1500, height=800)\n",
    "    \n",
    "        #col.children[1] = new_data_table\n",
    "\n",
    "    #checkbox_group = CheckboxGroup(labels=['Disabled person','Unspecified'], active=[0, 1])\n",
    "    checkbox_group = CheckboxGroup(labels=['Disabled person'])\n",
    "    checkbox_group.on_click(checkbox_change)\n",
    "\n",
    "    # this is confirmed to work\n",
    "    def table_reset(new):\n",
    "        col.children[1] = data_table\n",
    "\n",
    "    button = Button(label=\"Reset\", button_type=\"success\")\n",
    "    button.on_click(table_reset)\n",
    "    \n",
    "    def slider_weight_1_change(attrname, old, new):\n",
    "        slider_weight_3.value=slider_weight_1.value\n",
    "        #slider_weight_2.value=slider_weight_1.value\n",
    "        \n",
    "    slider_weight_1 = Slider(start=0, end=1, value=0.5, step=.1, title=\"Relevancy_to_news_weight\")\n",
    "    slider_weight_1.on_change('value', slider_weight_1_change)\n",
    "\n",
    "    def slider_weight_2_change(attrname, old, new):\n",
    "        slider_weight_1.value=slider_weight_2.value\n",
    "        #slider_weight_3.value=slider_weight_2.value\n",
    "        \n",
    "        \n",
    "    slider_weight_2 = Slider(start=0, end=1, value=0.5, step=.1, title=\"Document_features_weight\")\n",
    "    slider_weight_2.on_change('value', slider_weight_2_change)\n",
    "\n",
    "    def slider_weight_3_change(attrname, old, new):\n",
    "        #slider_weight_1.value=slider_weight_3.value\n",
    "        slider_weight_2.value=slider_weight_3.value\n",
    "        \n",
    "    slider_weight_3= Slider(start=0, end=1, value=0.5, step=.1, title=\"Document_content_weight\")\n",
    "    slider_weight_3.on_change('value', slider_weight_3_change)\n",
    "    \n",
    "    col = row(column(dropdown, dropdown2, dropdown3, dropdown4, dropdown5,checkbox_group,button, slider_weight_1,slider_weight_2,slider_weight_3 ), data_table)\n",
    "    doc.add_root(col)"
   ]
  },
  {
   "cell_type": "code",
   "execution_count": 53,
   "metadata": {
    "ExecuteTime": {
     "end_time": "2019-06-15T15:37:07.149520Z",
     "start_time": "2019-06-15T15:37:07.141970Z"
    }
   },
   "outputs": [
    {
     "data": {
      "text/plain": [
       "\"\\ndata_dir = '/home/antonis/TWB_translators/'\\nmetadata2 = pd.read_excel(data_dir + 'Hackathon-for-Good-2019_TWB-Challenge_Metadata.xlsx')\\n\\n\\ntemp=metadata2.Source_country.unique()\\ntemp=sorted(temp)\\nmenu3=[]\\nfor i in range(len(temp)):\\n    menu3.append((temp[i], str(i)))\\n    #menu3.append(temp[i])\\n\\nnew_data_view = metadata2.loc[(metadata2['Source_country'] == menu3[int('4')][0])]\\nnew_data_view.head()\\n\""
      ]
     },
     "execution_count": 53,
     "metadata": {},
     "output_type": "execute_result"
    }
   ],
   "source": [
    "'''\n",
    "data_dir = '/home/antonis/TWB_translators/'\n",
    "metadata2 = pd.read_excel(data_dir + 'Hackathon-for-Good-2019_TWB-Challenge_Metadata.xlsx')\n",
    "\n",
    "\n",
    "temp=metadata2.Source_country.unique()\n",
    "temp=sorted(temp)\n",
    "menu3=[]\n",
    "for i in range(len(temp)):\n",
    "    menu3.append((temp[i], str(i)))\n",
    "    #menu3.append(temp[i])\n",
    "\n",
    "new_data_view = metadata2.loc[(metadata2['Source_country'] == menu3[int('4')][0])]\n",
    "new_data_view.head()\n",
    "'''\n"
   ]
  },
  {
   "cell_type": "code",
   "execution_count": 54,
   "metadata": {
    "ExecuteTime": {
     "end_time": "2019-06-15T15:37:07.467301Z",
     "start_time": "2019-06-15T15:37:07.447618Z"
    }
   },
   "outputs": [],
   "source": [
    "# runs the app using bokeh server unsing 1 thread in port 5007\n",
    "server = Server({'/': twb_app}, num_procs=1, port=8080)\n",
    "server.start()\n",
    "server.show('/')"
   ]
  },
  {
   "cell_type": "code",
   "execution_count": 59,
   "metadata": {
    "ExecuteTime": {
     "end_time": "2019-06-15T15:39:57.080753Z",
     "start_time": "2019-06-15T15:39:57.077254Z"
    }
   },
   "outputs": [],
   "source": [
    "server.stop()"
   ]
  },
  {
   "cell_type": "code",
   "execution_count": null,
   "metadata": {
    "ExecuteTime": {
     "end_time": "2019-06-15T12:08:28.515454Z",
     "start_time": "2019-06-15T12:08:25.094430Z"
    }
   },
   "outputs": [],
   "source": [
    "'''\n",
    "import numpy as np\n",
    "import pandas as pd\n",
    "\n",
    "from bokeh.io import show , output_notebook\n",
    "from bokeh.models import ColumnDataSource\n",
    "from bokeh.models.widgets import DataTable, DateFormatter, TableColumn, Dropdown, CheckboxGroup, Button, Slider, MultiSelect\n",
    "from bokeh.models.callbacks import CustomJS\n",
    "from bokeh.layouts import column, gridplot, row\n",
    "from bokeh.server.server import Server\n",
    "\n",
    "output_notebook()   \n",
    "\n",
    "data_dir = '/home/antonis/TWB_translators/'\n",
    "metadata = pd.read_excel(data_dir + 'Hackathon-for-Good-2019_TWB-Challenge_Metadata.xlsx')\n",
    "\n",
    "def dropdown_change3(attr,old,new):\n",
    "    # find appropriates data rows based on new value\n",
    "    #vcomp = multi_select.value\n",
    "    print(dropdown3.value)\n",
    "    new_data_view = metadata.loc[metadata['Source_country'] == menu3[int(dropdown3.value)][0]]\n",
    "    # update source of data table\n",
    "    source = ColumnDataSource(new_data_view)\n",
    "    new_data_table = DataTable(source=source, columns=columns, width=1500, height=800)\n",
    "    # update the layout of the doc with new data table\n",
    "    col.children[1] = new_data_table\n",
    "\n",
    "\n",
    "source = ColumnDataSource(metadata)\n",
    "    \n",
    "temp=metadata.Source_country.unique()\n",
    "temp=sorted(temp)\n",
    "menu3=[]\n",
    "for i in range(len(temp)):\n",
    "    menu3.append((temp[i], temp[i]+str(i)))\n",
    "    #menu3.append(temp[i])\n",
    "\n",
    "dropdown3 = Dropdown(label='Source country', button_type='warning', menu=menu3)\n",
    "#multi_select = MultiSelect(title=\"Source Country:\", value=[\"GR\"],options=menu3)\n",
    "dropdown3.on_change('value', dropdown_change3)\n",
    "\n",
    "columns = []\n",
    "for i in metadata.columns:\n",
    "    temp = TableColumn(field=i, title=i)\n",
    "    columns.append(temp)\n",
    "\n",
    "data_table = DataTable(source=source, columns=columns, width=500, height=200)\n",
    "\n",
    "col = row(column(dropdown3), data_table)\n",
    "show(col)\n",
    "'''"
   ]
  },
  {
   "cell_type": "code",
   "execution_count": 62,
   "metadata": {
    "ExecuteTime": {
     "end_time": "2019-06-15T15:45:46.887630Z",
     "start_time": "2019-06-15T15:45:46.517446Z"
    }
   },
   "outputs": [],
   "source": [
    "metadata = pd.read_pickle('data/english_document_data.pkl')\n",
    "source = ColumnDataSource(metadata)\n",
    "    \n",
    "extra_features = pd.read_pickle('data/freq_content_updated.pkl')\n",
    "metadata['Age'] = extra_features['Age']\n",
    "metadata['Gender'] = extra_features['Gender']\n",
    "metadata['Disabled'] = extra_features['disabl '] > 0.001"
   ]
  },
  {
   "cell_type": "code",
   "execution_count": 58,
   "metadata": {
    "ExecuteTime": {
     "end_time": "2019-06-15T15:39:44.342846Z",
     "start_time": "2019-06-15T15:39:44.333459Z"
    }
   },
   "outputs": [
    {
     "data": {
      "text/plain": [
       "0        0.000000\n",
       "1        0.000000\n",
       "2        0.000000\n",
       "3        0.000000\n",
       "4        0.000000\n",
       "5        0.000000\n",
       "6        0.000000\n",
       "7        0.000000\n",
       "8        0.000000\n",
       "9        0.000000\n",
       "10       0.000000\n",
       "11       0.000000\n",
       "12       0.000000\n",
       "13       0.000000\n",
       "14       0.000000\n",
       "15       0.000000\n",
       "16       0.000000\n",
       "17       0.000000\n",
       "18       0.000000\n",
       "19       0.000135\n",
       "20       0.000135\n",
       "21       0.000135\n",
       "22       0.000343\n",
       "23       0.000343\n",
       "24       0.000343\n",
       "25       0.000343\n",
       "26       0.000343\n",
       "27       0.000343\n",
       "28       0.000343\n",
       "29       0.000000\n",
       "           ...   \n",
       "34495    0.002427\n",
       "34496    0.002427\n",
       "34497    0.000000\n",
       "34498    0.000000\n",
       "34499    0.000000\n",
       "34500    0.000000\n",
       "34501    0.000000\n",
       "34502    0.000000\n",
       "34503    0.000000\n",
       "34504    0.000000\n",
       "34505    0.000000\n",
       "34506    0.000000\n",
       "34507    0.000000\n",
       "34508    0.000000\n",
       "34509    0.000000\n",
       "34510    0.000000\n",
       "34511    0.000000\n",
       "34512    0.000000\n",
       "34513    0.000000\n",
       "34514    0.000000\n",
       "34515    0.000000\n",
       "34516    0.000000\n",
       "34517    0.000000\n",
       "34518    0.000000\n",
       "34519    0.000000\n",
       "34520    0.000000\n",
       "34521    0.000000\n",
       "34522    0.000000\n",
       "34523    0.000000\n",
       "34524    0.000000\n",
       "Name: disabl , Length: 34525, dtype: float64"
      ]
     },
     "execution_count": 58,
     "metadata": {},
     "output_type": "execute_result"
    }
   ],
   "source": [
    "extra_features['disabl ']"
   ]
  },
  {
   "cell_type": "code",
   "execution_count": null,
   "metadata": {},
   "outputs": [],
   "source": []
  }
 ],
 "metadata": {
  "kernelspec": {
   "display_name": "Python 3",
   "language": "python",
   "name": "python3"
  },
  "language_info": {
   "codemirror_mode": {
    "name": "ipython",
    "version": 3
   },
   "file_extension": ".py",
   "mimetype": "text/x-python",
   "name": "python",
   "nbconvert_exporter": "python",
   "pygments_lexer": "ipython3",
   "version": "3.6.5"
  },
  "varInspector": {
   "cols": {
    "lenName": 16,
    "lenType": 16,
    "lenVar": "50"
   },
   "kernels_config": {
    "python": {
     "delete_cmd_postfix": "",
     "delete_cmd_prefix": "del ",
     "library": "var_list.py",
     "varRefreshCmd": "print(var_dic_list())"
    },
    "r": {
     "delete_cmd_postfix": ") ",
     "delete_cmd_prefix": "rm(",
     "library": "var_list.r",
     "varRefreshCmd": "cat(var_dic_list()) "
    }
   },
   "position": {
    "height": "423px",
    "left": "1581.5px",
    "right": "20px",
    "top": "120px",
    "width": "350px"
   },
   "types_to_exclude": [
    "module",
    "function",
    "builtin_function_or_method",
    "instance",
    "_Feature"
   ],
   "window_display": true
  }
 },
 "nbformat": 4,
 "nbformat_minor": 2
}
